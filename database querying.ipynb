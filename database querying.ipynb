{
 "cells": [
  {
   "cell_type": "code",
   "execution_count": 1,
   "metadata": {},
   "outputs": [],
   "source": [
    "import django\n",
    "import os\n",
    "\n",
    "os.environ[\"DJANGO_SETTINGS_MODULE\"] = 'imdb.settings'\n",
    "django.setup()"
   ]
  },
  {
   "cell_type": "code",
   "execution_count": 2,
   "metadata": {},
   "outputs": [],
   "source": [
    "from DatabaseQueries.models import *\n",
    "from django.db.models import Subquery, OuterRef, Sum, FloatField\n",
    "from django.db.models.functions import Cast"
   ]
  },
  {
   "cell_type": "code",
   "execution_count": 3,
   "metadata": {},
   "outputs": [
    {
     "data": {
      "text/plain": [
       "<QuerySet [{'movie__title': 'H', 'avg_rating': 3.5}, {'movie__title': 'I', 'avg_rating': 3.4047619047619047}, {'movie__title': 'J', 'avg_rating': 3.2222222222222223}, {'movie__title': 'E', 'avg_rating': 3.1914893617021276}, {'movie__title': 'A', 'avg_rating': 3.1621621621621623}, {'movie__title': 'C', 'avg_rating': 3.025}, {'movie__title': 'G', 'avg_rating': 3.024390243902439}, {'movie__title': 'B', 'avg_rating': 2.9555555555555557}, {'movie__title': 'F', 'avg_rating': 2.85}, {'movie__title': 'K', 'avg_rating': 2.7906976744186047}]>"
      ]
     },
     "execution_count": 3,
     "metadata": {},
     "output_type": "execute_result"
    }
   ],
   "source": [
    "def get_top_10_movies_with_avg_rating():\n",
    "    top_10_movies = MovieRating.objects.values('movie_id', 'movie__title').annotate(avg_rating=Cast(Sum(F('no_of_ratings') * F('rating_no') * 1.0) / Sum(F('no_of_ratings')), FloatField()))\n",
    "    return top_10_movies.values('movie__title','avg_rating').order_by('-avg_rating')[:10]\n",
    "get_top_10_movies_with_avg_rating()"
   ]
  },
  {
   "cell_type": "code",
   "execution_count": 8,
   "metadata": {},
   "outputs": [
    {
     "name": "stdout",
     "output_type": "stream",
     "text": [
      "<QuerySet [{'id': 1}, {'id': 11}, {'id': 12}, {'id': 2}, {'id': 3}]>\n",
      "<QuerySet [{'id': 6}, {'id': 7}, {'id': 8}, {'id': 9}, {'id': 2}]>\n"
     ]
    },
    {
     "data": {
      "text/plain": [
       "<QuerySet [('Pavan Kalyan',), ('Prabhas',), ('Ram Charan',), ('Rashi',), ('Deepika',), ('Nithin',), ('Bala Krishna',), ('Samantha',), ('Tamanna',)]>"
      ]
     },
     "execution_count": 8,
     "metadata": {},
     "output_type": "execute_result"
    }
   ],
   "source": [
    "def get_top_5_and_least_5_actors():\n",
    "    top_5_actors = Actor.objects.all().annotate(no_of_movies_acted=Count('moviecast')).order_by('-no_of_movies_acted').values('id')[:5]\n",
    "    least_5_actors = Actor.objects.all().annotate(no_of_movies_acted=Count('moviecast')).order_by('no_of_movies_acted').values('id')[:5]\n",
    "    no_of_movies_acted = Actor.objects.filter(Q(id__in=Subquery(top_5_actors)) | Q(id__in=Subquery(least_5_actors))).values_list('name')\n",
    "\n",
    "    return no_of_movies_acted\n",
    "get_top_5_and_least_5_actors()"
   ]
  },
  {
   "cell_type": "code",
   "execution_count": 10,
   "metadata": {},
   "outputs": [
    {
     "data": {
      "text/plain": [
       "{'top': <QuerySet [('Pavan Kalyan', 3), ('Rashi', 3), ('Deepika', 3), ('Prabhas', 2), ('Ram Charan', 2)]>,\n",
       " 'least': <QuerySet [('Nithin', 0), ('Bala Krishna', 0), ('Samantha', 1), ('Tamanna', 1), ('Prabhas', 2)]>}"
      ]
     },
     "execution_count": 10,
     "metadata": {},
     "output_type": "execute_result"
    }
   ],
   "source": [
    "def get_top_5_and_least_5_actors():\n",
    "    no_of_movies_acted = Actor.objects.annotate(no_of_movies_acted=Count('moviecast')).values_list('name', 'no_of_movies_acted')\n",
    "    top_5_actors = no_of_movies_acted.order_by('-no_of_movies_acted')[:5]\n",
    "    least_5_actors = no_of_movies_acted.order_by('no_of_movies_acted')[:5]\n",
    "    result = {\"top\": top_5_actors, \"least\": least_5_actors}\n",
    "    return result\n",
    "get_top_5_and_least_5_actors()"
   ]
  }
 ],
 "metadata": {
  "kernelspec": {
   "display_name": "Python 3",
   "language": "python",
   "name": "python3"
  },
  "language_info": {
   "codemirror_mode": {
    "name": "ipython",
    "version": 3
   },
   "file_extension": ".py",
   "mimetype": "text/x-python",
   "name": "python",
   "nbconvert_exporter": "python",
   "pygments_lexer": "ipython3",
   "version": "3.7.3"
  }
 },
 "nbformat": 4,
 "nbformat_minor": 2
}
