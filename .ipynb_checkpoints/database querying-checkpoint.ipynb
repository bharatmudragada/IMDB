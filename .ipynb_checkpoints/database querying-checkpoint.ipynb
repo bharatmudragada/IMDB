{
 "cells": [
  {
   "cell_type": "code",
   "execution_count": 1,
   "metadata": {},
   "outputs": [],
   "source": [
    "import django\n",
    "import os\n",
    "\n",
    "os.environ[\"DJANGO_SETTINGS_MODULE\"] = 'imdb.settings'\n",
    "django.setup()"
   ]
  },
  {
   "cell_type": "code",
   "execution_count": 2,
   "metadata": {},
   "outputs": [],
   "source": [
    "from DatabaseQueries.models import *\n",
    "from django.db.models import Subquery, OuterRef, Sum, FloatField, Max, Count\n",
    "from django.db.models.functions import Cast"
   ]
  },
  {
   "cell_type": "code",
   "execution_count": 3,
   "metadata": {},
   "outputs": [
    {
     "data": {
      "text/plain": [
       "<QuerySet [{'movie__title': 'E', 'avg_rating': 3.3684210526315788}, {'movie__title': 'C', 'avg_rating': 3.1333333333333333}, {'movie__title': 'A', 'avg_rating': 3.0652173913043477}, {'movie__title': 'J', 'avg_rating': 2.9791666666666665}, {'movie__title': 'F', 'avg_rating': 2.9782608695652173}, {'movie__title': 'H', 'avg_rating': 2.9411764705882355}, {'movie__title': 'G', 'avg_rating': 2.9361702127659575}, {'movie__title': 'K', 'avg_rating': 2.9166666666666665}, {'movie__title': 'D', 'avg_rating': 2.857142857142857}, {'movie__title': 'I', 'avg_rating': 2.7916666666666665}]>"
      ]
     },
     "execution_count": 3,
     "metadata": {},
     "output_type": "execute_result"
    }
   ],
   "source": [
    "def get_top_10_movies_with_avg_rating():\n",
    "    top_10_movies = MovieRating.objects.values('movie_id', 'movie__title').annotate(avg_rating=Cast(Sum(F('no_of_ratings') * F('rating_no') * 1.0) / Sum(F('no_of_ratings')), FloatField()))\n",
    "    return top_10_movies.values('movie__title','avg_rating').order_by('-avg_rating')[:10]\n",
    "get_top_10_movies_with_avg_rating()"
   ]
  },
  {
   "cell_type": "code",
   "execution_count": 4,
   "metadata": {},
   "outputs": [
    {
     "data": {
      "text/plain": [
       "<QuerySet [('Pavan Kalyan',), ('Prabhas',), ('Ram Charan',), ('Rashi',), ('Deepika',), ('Nithin',), ('Bala Krishna',), ('Samantha',), ('Tamanna',)]>"
      ]
     },
     "execution_count": 4,
     "metadata": {},
     "output_type": "execute_result"
    }
   ],
   "source": [
    "def get_top_5_and_least_5_actors():\n",
    "    top_5_actors = Actor.objects.all().annotate(no_of_movies_acted=Count('moviecast')).order_by('-no_of_movies_acted').values('id')[:5]\n",
    "    least_5_actors = Actor.objects.all().annotate(no_of_movies_acted=Count('moviecast')).order_by('no_of_movies_acted').values('id')[:5]\n",
    "    no_of_movies_acted = Actor.objects.filter(Q(id__in=Subquery(top_5_actors)) | Q(id__in=Subquery(least_5_actors))).values_list('name')\n",
    "    return no_of_movies_acted\n",
    "get_top_5_and_least_5_actors()"
   ]
  },
  {
   "cell_type": "code",
   "execution_count": 5,
   "metadata": {},
   "outputs": [
    {
     "name": "stdout",
     "output_type": "stream",
     "text": [
      "<QuerySet [{'movie_id': 1, 'cast__birth_date__month': 4, 'month_count': 2, 'star_month': 4}, {'movie_id': 4, 'cast__birth_date__month': 9, 'month_count': 2, 'star_month': 9}, {'movie_id': 7, 'cast__birth_date__month': 9, 'month_count': 1, 'star_month': 9}]>\n"
     ]
    }
   ],
   "source": [
    "def star_movies():\n",
    "    star_month = MovieCast.objects.filter(movie_id=OuterRef('movie_id')).values('cast__birth_date__month').annotate(month_count=Count(\"id\")).values_list('cast__birth_date__month', flat=True).order_by('-month_count', 'cast__birth_date__month')\n",
    "    star_movies = MovieCast.objects.values('movie_id','cast__birth_date__month').annotate(month_count=Count(\"id\"), star_month=Subquery(star_month[:1])).filter(movie__release_date__month=F('star_month'), cast__birth_date__month=F('star_month')).order_by('-month_count')\n",
    "    print(star_movies)\n",
    "star_movies()"
   ]
  },
  {
   "cell_type": "code",
   "execution_count": 8,
   "metadata": {},
   "outputs": [
    {
     "data": {
      "text/plain": [
       "<QuerySet [{'movie': 1, 'movie__release_date__month': 4, 'cast__birth_date__month': 9}, {'movie': 1, 'movie__release_date__month': 4, 'cast__birth_date__month': 4}, {'movie': 1, 'movie__release_date__month': 4, 'cast__birth_date__month': 4}, {'movie': 2, 'movie__release_date__month': 3, 'cast__birth_date__month': 2}, {'movie': 2, 'movie__release_date__month': 3, 'cast__birth_date__month': 11}, {'movie': 3, 'movie__release_date__month': 5, 'cast__birth_date__month': 9}, {'movie': 3, 'movie__release_date__month': 5, 'cast__birth_date__month': 10}, {'movie': 4, 'movie__release_date__month': 9, 'cast__birth_date__month': 9}, {'movie': 4, 'movie__release_date__month': 9, 'cast__birth_date__month': 9}, {'movie': 5, 'movie__release_date__month': 3, 'cast__birth_date__month': 9}, {'movie': 5, 'movie__release_date__month': 3, 'cast__birth_date__month': 9}, {'movie': 6, 'movie__release_date__month': 12, 'cast__birth_date__month': 7}, {'movie': 6, 'movie__release_date__month': 12, 'cast__birth_date__month': 11}, {'movie': 7, 'movie__release_date__month': 9, 'cast__birth_date__month': 9}, {'movie': 7, 'movie__release_date__month': 9, 'cast__birth_date__month': 10}, {'movie': 8, 'movie__release_date__month': 12, 'cast__birth_date__month': 9}, {'movie': 8, 'movie__release_date__month': 12, 'cast__birth_date__month': 9}, {'movie': 9, 'movie__release_date__month': 1, 'cast__birth_date__month': 7}, {'movie': 9, 'movie__release_date__month': 1, 'cast__birth_date__month': 9}, {'movie': 10, 'movie__release_date__month': 12, 'cast__birth_date__month': 2}, '...(remaining elements truncated)...']>"
      ]
     },
     "execution_count": 8,
     "metadata": {},
     "output_type": "execute_result"
    }
   ],
   "source": [
    "MovieCast.objects.annotate(movie_month=F('movie__release_date__month'),actor_birth_date=F('cast__birth_date__month')).values(\"movie\",\"movie__release_date__month\",\"cast__birth_date__month\")"
   ]
  },
  {
   "cell_type": "code",
   "execution_count": 9,
   "metadata": {},
   "outputs": [
    {
     "data": {
      "text/plain": [
       "<QuerySet []>"
      ]
     },
     "execution_count": 9,
     "metadata": {},
     "output_type": "execute_result"
    }
   ],
   "source": [
    "MovieCast.objects.annotate(movie_month=Cast(F('movie__release_date__month'), IntegerField()),actor_birth_date=Cast(F('cast__birth_date__month'),, IntegerField())).values(\"movie\",\"movie__release_date__month\",\"cast__birth_date__month\").filter(movie_month=F('actor_birth_date'))"
   ]
  },
  {
   "cell_type": "code",
   "execution_count": null,
   "metadata": {},
   "outputs": [],
   "source": []
  }
 ],
 "metadata": {
  "kernelspec": {
   "display_name": "Python 3",
   "language": "python",
   "name": "python3"
  },
  "language_info": {
   "codemirror_mode": {
    "name": "ipython",
    "version": 3
   },
   "file_extension": ".py",
   "mimetype": "text/x-python",
   "name": "python",
   "nbconvert_exporter": "python",
   "pygments_lexer": "ipython3",
   "version": "3.7.3"
  }
 },
 "nbformat": 4,
 "nbformat_minor": 2
}
