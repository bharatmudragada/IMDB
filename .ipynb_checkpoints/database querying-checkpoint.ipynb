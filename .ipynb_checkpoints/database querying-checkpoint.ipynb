{
 "cells": [
  {
   "cell_type": "code",
   "execution_count": 2,
   "metadata": {},
   "outputs": [],
   "source": [
    "import django\n",
    "import os\n",
    "\n",
    "os.environ[\"DJANGO_SETTINGS_MODULE\"] = 'imdb.settings'\n",
    "django.setup()"
   ]
  },
  {
   "cell_type": "code",
   "execution_count": 3,
   "metadata": {},
   "outputs": [],
   "source": [
    "from DatabaseQueries.models import *\n",
    "from django.db.models import Subquery, OuterRef"
   ]
  },
  {
   "cell_type": "code",
   "execution_count": 31,
   "metadata": {},
   "outputs": [
    {
     "data": {
      "text/plain": [
       "<QuerySet [{'title': 'A', 'avg_rating': 3}, {'title': 'C', 'avg_rating': 3}, {'title': 'E', 'avg_rating': 3}, {'title': 'G', 'avg_rating': 3}, {'title': 'H', 'avg_rating': 3}, {'title': 'I', 'avg_rating': 3}, {'title': 'J', 'avg_rating': 3}, {'title': 'B', 'avg_rating': 2}, {'title': 'D', 'avg_rating': 2}, {'title': 'F', 'avg_rating': 2}]>"
      ]
     },
     "execution_count": 31,
     "metadata": {},
     "output_type": "execute_result"
    }
   ],
   "source": [
    "def get_top_10_movies_with_avg_rating():\n",
    "    rating_1_value = MovieRating.objects.filter(movie_id=OuterRef('id'), rating_no=1).values_list('no_of_ratings')\n",
    "    rating_2_value = MovieRating.objects.filter(movie_id=OuterRef('id'), rating_no=2).values_list('no_of_ratings')\n",
    "    rating_3_value = MovieRating.objects.filter(movie_id=OuterRef('id'), rating_no=3).values_list('no_of_ratings')\n",
    "    rating_4_value = MovieRating.objects.filter(movie_id=OuterRef('id'), rating_no=4).values_list('no_of_ratings')\n",
    "    rating_5_value = MovieRating.objects.filter(movie_id=OuterRef('id'), rating_no=5).values_list('no_of_ratings')\n",
    "    total_ratings = F('one_ratings') + F('two_ratings') + F('three_ratings') + F('four_ratings') + F('five_ratings')\n",
    "    avg_rating = (F('one_ratings') * 1 + F('two_ratings') * 2 + F('three_ratings') * 3 + F('four_ratings') * 4 + F('five_ratings') * 5) / total_ratings\n",
    "    top_10_movies = Movie.objects.all().annotate(one_ratings=Subquery(rating_1_value), two_ratings=Subquery(rating_2_value), three_ratings=Subquery(rating_3_value), four_ratings=Subquery(rating_4_value), five_ratings=Subquery(rating_5_value), total_ratings=total_ratings, avg_rating=avg_rating)\n",
    "    return top_10_movies.values('title', 'avg_rating').order_by('-avg_rating')[:10]\n",
    "get_top_10_movies_with_avg_rating()"
   ]
  },
  {
   "cell_type": "code",
   "execution_count": 36,
   "metadata": {},
   "outputs": [
    {
     "ename": "FieldError",
     "evalue": "Cannot resolve keyword 'title' into field. Choices are: avg_rating, id, movie, movie_id, no_of_ratings, rating_no",
     "output_type": "error",
     "traceback": [
      "\u001b[0;31m---------------------------------------------------------------------------\u001b[0m",
      "\u001b[0;31mFieldError\u001b[0m                                Traceback (most recent call last)",
      "\u001b[0;32m~/PycharmProjects/IMDB/venv/lib/python3.7/site-packages/django/db/models/sql/query.py\u001b[0m in \u001b[0;36madd_fields\u001b[0;34m(self, field_names, allow_m2m)\u001b[0m\n\u001b[1;32m   1767\u001b[0m                 \u001b[0;31m# if there is no existing joins, use outer join.\u001b[0m\u001b[0;34m\u001b[0m\u001b[0;34m\u001b[0m\u001b[0;34m\u001b[0m\u001b[0m\n\u001b[0;32m-> 1768\u001b[0;31m                 \u001b[0mjoin_info\u001b[0m \u001b[0;34m=\u001b[0m \u001b[0mself\u001b[0m\u001b[0;34m.\u001b[0m\u001b[0msetup_joins\u001b[0m\u001b[0;34m(\u001b[0m\u001b[0mname\u001b[0m\u001b[0;34m.\u001b[0m\u001b[0msplit\u001b[0m\u001b[0;34m(\u001b[0m\u001b[0mLOOKUP_SEP\u001b[0m\u001b[0;34m)\u001b[0m\u001b[0;34m,\u001b[0m \u001b[0mopts\u001b[0m\u001b[0;34m,\u001b[0m \u001b[0malias\u001b[0m\u001b[0;34m,\u001b[0m \u001b[0mallow_many\u001b[0m\u001b[0;34m=\u001b[0m\u001b[0mallow_m2m\u001b[0m\u001b[0;34m)\u001b[0m\u001b[0;34m\u001b[0m\u001b[0;34m\u001b[0m\u001b[0m\n\u001b[0m\u001b[1;32m   1769\u001b[0m                 targets, final_alias, joins = self.trim_joins(\n",
      "\u001b[0;32m~/PycharmProjects/IMDB/venv/lib/python3.7/site-packages/django/db/models/sql/query.py\u001b[0m in \u001b[0;36msetup_joins\u001b[0;34m(self, names, opts, alias, can_reuse, allow_many, reuse_with_filtered_relation)\u001b[0m\n\u001b[1;32m   1503\u001b[0m                 path, final_field, targets, rest = self.names_to_path(\n\u001b[0;32m-> 1504\u001b[0;31m                     \u001b[0mnames\u001b[0m\u001b[0;34m[\u001b[0m\u001b[0;34m:\u001b[0m\u001b[0mpivot\u001b[0m\u001b[0;34m]\u001b[0m\u001b[0;34m,\u001b[0m \u001b[0mopts\u001b[0m\u001b[0;34m,\u001b[0m \u001b[0mallow_many\u001b[0m\u001b[0;34m,\u001b[0m \u001b[0mfail_on_missing\u001b[0m\u001b[0;34m=\u001b[0m\u001b[0;32mTrue\u001b[0m\u001b[0;34m,\u001b[0m\u001b[0;34m\u001b[0m\u001b[0;34m\u001b[0m\u001b[0m\n\u001b[0m\u001b[1;32m   1505\u001b[0m                 )\n",
      "\u001b[0;32m~/PycharmProjects/IMDB/venv/lib/python3.7/site-packages/django/db/models/sql/query.py\u001b[0m in \u001b[0;36mnames_to_path\u001b[0;34m(self, names, opts, allow_many, fail_on_missing)\u001b[0m\n\u001b[1;32m   1419\u001b[0m                     raise FieldError(\"Cannot resolve keyword '%s' into field. \"\n\u001b[0;32m-> 1420\u001b[0;31m                                      \"Choices are: %s\" % (name, \", \".join(available)))\n\u001b[0m\u001b[1;32m   1421\u001b[0m                 \u001b[0;32mbreak\u001b[0m\u001b[0;34m\u001b[0m\u001b[0;34m\u001b[0m\u001b[0m\n",
      "\u001b[0;31mFieldError\u001b[0m: Cannot resolve keyword 'title' into field. Choices are: avg_rating, id, movie, movie_id, no_of_ratings, rating_no",
      "\nDuring handling of the above exception, another exception occurred:\n",
      "\u001b[0;31mFieldError\u001b[0m                                Traceback (most recent call last)",
      "\u001b[0;32m<ipython-input-36-dfa770f17bd9>\u001b[0m in \u001b[0;36m<module>\u001b[0;34m\u001b[0m\n\u001b[1;32m      2\u001b[0m     \u001b[0mtop_10_movies\u001b[0m \u001b[0;34m=\u001b[0m \u001b[0mMovieRating\u001b[0m\u001b[0;34m.\u001b[0m\u001b[0mobjects\u001b[0m\u001b[0;34m.\u001b[0m\u001b[0mfilter\u001b[0m\u001b[0;34m(\u001b[0m\u001b[0mmovie\u001b[0m\u001b[0;34m=\u001b[0m\u001b[0mF\u001b[0m\u001b[0;34m(\u001b[0m\u001b[0;34m'movie'\u001b[0m\u001b[0;34m)\u001b[0m\u001b[0;34m)\u001b[0m\u001b[0;34m.\u001b[0m\u001b[0mannotate\u001b[0m\u001b[0;34m(\u001b[0m\u001b[0mavg_rating\u001b[0m\u001b[0;34m=\u001b[0m\u001b[0mF\u001b[0m\u001b[0;34m(\u001b[0m\u001b[0;34m'no_of_ratings'\u001b[0m\u001b[0;34m)\u001b[0m \u001b[0;34m*\u001b[0m \u001b[0mF\u001b[0m\u001b[0;34m(\u001b[0m\u001b[0;34m'rating_no'\u001b[0m\u001b[0;34m)\u001b[0m\u001b[0;34m)\u001b[0m\u001b[0;34m\u001b[0m\u001b[0;34m\u001b[0m\u001b[0m\n\u001b[1;32m      3\u001b[0m     \u001b[0;32mreturn\u001b[0m \u001b[0mtop_10_movies\u001b[0m\u001b[0;34m.\u001b[0m\u001b[0mvalues\u001b[0m\u001b[0;34m(\u001b[0m\u001b[0;34m'title'\u001b[0m\u001b[0;34m,\u001b[0m \u001b[0;34m'avg_rating'\u001b[0m\u001b[0;34m)\u001b[0m\u001b[0;34m.\u001b[0m\u001b[0morder_by\u001b[0m\u001b[0;34m(\u001b[0m\u001b[0;34m'-avg_rating'\u001b[0m\u001b[0;34m)\u001b[0m\u001b[0;34m[\u001b[0m\u001b[0;34m:\u001b[0m\u001b[0;36m10\u001b[0m\u001b[0;34m]\u001b[0m\u001b[0;34m\u001b[0m\u001b[0;34m\u001b[0m\u001b[0m\n\u001b[0;32m----> 4\u001b[0;31m \u001b[0mget_top_10_movies_with_avg_rating\u001b[0m\u001b[0;34m(\u001b[0m\u001b[0;34m)\u001b[0m\u001b[0;34m\u001b[0m\u001b[0;34m\u001b[0m\u001b[0m\n\u001b[0m",
      "\u001b[0;32m<ipython-input-36-dfa770f17bd9>\u001b[0m in \u001b[0;36mget_top_10_movies_with_avg_rating\u001b[0;34m()\u001b[0m\n\u001b[1;32m      1\u001b[0m \u001b[0;32mdef\u001b[0m \u001b[0mget_top_10_movies_with_avg_rating\u001b[0m\u001b[0;34m(\u001b[0m\u001b[0;34m)\u001b[0m\u001b[0;34m:\u001b[0m\u001b[0;34m\u001b[0m\u001b[0;34m\u001b[0m\u001b[0m\n\u001b[1;32m      2\u001b[0m     \u001b[0mtop_10_movies\u001b[0m \u001b[0;34m=\u001b[0m \u001b[0mMovieRating\u001b[0m\u001b[0;34m.\u001b[0m\u001b[0mobjects\u001b[0m\u001b[0;34m.\u001b[0m\u001b[0mfilter\u001b[0m\u001b[0;34m(\u001b[0m\u001b[0mmovie\u001b[0m\u001b[0;34m=\u001b[0m\u001b[0mF\u001b[0m\u001b[0;34m(\u001b[0m\u001b[0;34m'movie'\u001b[0m\u001b[0;34m)\u001b[0m\u001b[0;34m)\u001b[0m\u001b[0;34m.\u001b[0m\u001b[0mannotate\u001b[0m\u001b[0;34m(\u001b[0m\u001b[0mavg_rating\u001b[0m\u001b[0;34m=\u001b[0m\u001b[0mF\u001b[0m\u001b[0;34m(\u001b[0m\u001b[0;34m'no_of_ratings'\u001b[0m\u001b[0;34m)\u001b[0m \u001b[0;34m*\u001b[0m \u001b[0mF\u001b[0m\u001b[0;34m(\u001b[0m\u001b[0;34m'rating_no'\u001b[0m\u001b[0;34m)\u001b[0m\u001b[0;34m)\u001b[0m\u001b[0;34m\u001b[0m\u001b[0;34m\u001b[0m\u001b[0m\n\u001b[0;32m----> 3\u001b[0;31m     \u001b[0;32mreturn\u001b[0m \u001b[0mtop_10_movies\u001b[0m\u001b[0;34m.\u001b[0m\u001b[0mvalues\u001b[0m\u001b[0;34m(\u001b[0m\u001b[0;34m'title'\u001b[0m\u001b[0;34m,\u001b[0m \u001b[0;34m'avg_rating'\u001b[0m\u001b[0;34m)\u001b[0m\u001b[0;34m.\u001b[0m\u001b[0morder_by\u001b[0m\u001b[0;34m(\u001b[0m\u001b[0;34m'-avg_rating'\u001b[0m\u001b[0;34m)\u001b[0m\u001b[0;34m[\u001b[0m\u001b[0;34m:\u001b[0m\u001b[0;36m10\u001b[0m\u001b[0;34m]\u001b[0m\u001b[0;34m\u001b[0m\u001b[0;34m\u001b[0m\u001b[0m\n\u001b[0m\u001b[1;32m      4\u001b[0m \u001b[0mget_top_10_movies_with_avg_rating\u001b[0m\u001b[0;34m(\u001b[0m\u001b[0;34m)\u001b[0m\u001b[0;34m\u001b[0m\u001b[0;34m\u001b[0m\u001b[0m\n",
      "\u001b[0;32m~/PycharmProjects/IMDB/venv/lib/python3.7/site-packages/django/db/models/query.py\u001b[0m in \u001b[0;36mvalues\u001b[0;34m(self, *fields, **expressions)\u001b[0m\n\u001b[1;32m    796\u001b[0m     \u001b[0;32mdef\u001b[0m \u001b[0mvalues\u001b[0m\u001b[0;34m(\u001b[0m\u001b[0mself\u001b[0m\u001b[0;34m,\u001b[0m \u001b[0;34m*\u001b[0m\u001b[0mfields\u001b[0m\u001b[0;34m,\u001b[0m \u001b[0;34m**\u001b[0m\u001b[0mexpressions\u001b[0m\u001b[0;34m)\u001b[0m\u001b[0;34m:\u001b[0m\u001b[0;34m\u001b[0m\u001b[0;34m\u001b[0m\u001b[0m\n\u001b[1;32m    797\u001b[0m         \u001b[0mfields\u001b[0m \u001b[0;34m+=\u001b[0m \u001b[0mtuple\u001b[0m\u001b[0;34m(\u001b[0m\u001b[0mexpressions\u001b[0m\u001b[0;34m)\u001b[0m\u001b[0;34m\u001b[0m\u001b[0;34m\u001b[0m\u001b[0m\n\u001b[0;32m--> 798\u001b[0;31m         \u001b[0mclone\u001b[0m \u001b[0;34m=\u001b[0m \u001b[0mself\u001b[0m\u001b[0;34m.\u001b[0m\u001b[0m_values\u001b[0m\u001b[0;34m(\u001b[0m\u001b[0;34m*\u001b[0m\u001b[0mfields\u001b[0m\u001b[0;34m,\u001b[0m \u001b[0;34m**\u001b[0m\u001b[0mexpressions\u001b[0m\u001b[0;34m)\u001b[0m\u001b[0;34m\u001b[0m\u001b[0;34m\u001b[0m\u001b[0m\n\u001b[0m\u001b[1;32m    799\u001b[0m         \u001b[0mclone\u001b[0m\u001b[0;34m.\u001b[0m\u001b[0m_iterable_class\u001b[0m \u001b[0;34m=\u001b[0m \u001b[0mValuesIterable\u001b[0m\u001b[0;34m\u001b[0m\u001b[0;34m\u001b[0m\u001b[0m\n\u001b[1;32m    800\u001b[0m         \u001b[0;32mreturn\u001b[0m \u001b[0mclone\u001b[0m\u001b[0;34m\u001b[0m\u001b[0;34m\u001b[0m\u001b[0m\n",
      "\u001b[0;32m~/PycharmProjects/IMDB/venv/lib/python3.7/site-packages/django/db/models/query.py\u001b[0m in \u001b[0;36m_values\u001b[0;34m(self, *fields, **expressions)\u001b[0m\n\u001b[1;32m    791\u001b[0m             \u001b[0mclone\u001b[0m \u001b[0;34m=\u001b[0m \u001b[0mclone\u001b[0m\u001b[0;34m.\u001b[0m\u001b[0mannotate\u001b[0m\u001b[0;34m(\u001b[0m\u001b[0;34m**\u001b[0m\u001b[0mexpressions\u001b[0m\u001b[0;34m)\u001b[0m\u001b[0;34m\u001b[0m\u001b[0;34m\u001b[0m\u001b[0m\n\u001b[1;32m    792\u001b[0m         \u001b[0mclone\u001b[0m\u001b[0;34m.\u001b[0m\u001b[0m_fields\u001b[0m \u001b[0;34m=\u001b[0m \u001b[0mfields\u001b[0m\u001b[0;34m\u001b[0m\u001b[0;34m\u001b[0m\u001b[0m\n\u001b[0;32m--> 793\u001b[0;31m         \u001b[0mclone\u001b[0m\u001b[0;34m.\u001b[0m\u001b[0mquery\u001b[0m\u001b[0;34m.\u001b[0m\u001b[0mset_values\u001b[0m\u001b[0;34m(\u001b[0m\u001b[0mfields\u001b[0m\u001b[0;34m)\u001b[0m\u001b[0;34m\u001b[0m\u001b[0;34m\u001b[0m\u001b[0m\n\u001b[0m\u001b[1;32m    794\u001b[0m         \u001b[0;32mreturn\u001b[0m \u001b[0mclone\u001b[0m\u001b[0;34m\u001b[0m\u001b[0;34m\u001b[0m\u001b[0m\n\u001b[1;32m    795\u001b[0m \u001b[0;34m\u001b[0m\u001b[0m\n",
      "\u001b[0;32m~/PycharmProjects/IMDB/venv/lib/python3.7/site-packages/django/db/models/sql/query.py\u001b[0m in \u001b[0;36mset_values\u001b[0;34m(self, fields)\u001b[0m\n\u001b[1;32m   2018\u001b[0m \u001b[0;34m\u001b[0m\u001b[0m\n\u001b[1;32m   2019\u001b[0m         \u001b[0mself\u001b[0m\u001b[0;34m.\u001b[0m\u001b[0mvalues_select\u001b[0m \u001b[0;34m=\u001b[0m \u001b[0mtuple\u001b[0m\u001b[0;34m(\u001b[0m\u001b[0mfield_names\u001b[0m\u001b[0;34m)\u001b[0m\u001b[0;34m\u001b[0m\u001b[0;34m\u001b[0m\u001b[0m\n\u001b[0;32m-> 2020\u001b[0;31m         \u001b[0mself\u001b[0m\u001b[0;34m.\u001b[0m\u001b[0madd_fields\u001b[0m\u001b[0;34m(\u001b[0m\u001b[0mfield_names\u001b[0m\u001b[0;34m,\u001b[0m \u001b[0;32mTrue\u001b[0m\u001b[0;34m)\u001b[0m\u001b[0;34m\u001b[0m\u001b[0;34m\u001b[0m\u001b[0m\n\u001b[0m\u001b[1;32m   2021\u001b[0m \u001b[0;34m\u001b[0m\u001b[0m\n\u001b[1;32m   2022\u001b[0m     \u001b[0;34m@\u001b[0m\u001b[0mproperty\u001b[0m\u001b[0;34m\u001b[0m\u001b[0;34m\u001b[0m\u001b[0m\n",
      "\u001b[0;32m~/PycharmProjects/IMDB/venv/lib/python3.7/site-packages/django/db/models/sql/query.py\u001b[0m in \u001b[0;36madd_fields\u001b[0;34m(self, field_names, allow_m2m)\u001b[0m\n\u001b[1;32m   1789\u001b[0m                 ])\n\u001b[1;32m   1790\u001b[0m                 raise FieldError(\"Cannot resolve keyword %r into field. \"\n\u001b[0;32m-> 1791\u001b[0;31m                                  \"Choices are: %s\" % (name, \", \".join(names)))\n\u001b[0m\u001b[1;32m   1792\u001b[0m \u001b[0;34m\u001b[0m\u001b[0m\n\u001b[1;32m   1793\u001b[0m     \u001b[0;32mdef\u001b[0m \u001b[0madd_ordering\u001b[0m\u001b[0;34m(\u001b[0m\u001b[0mself\u001b[0m\u001b[0;34m,\u001b[0m \u001b[0;34m*\u001b[0m\u001b[0mordering\u001b[0m\u001b[0;34m)\u001b[0m\u001b[0;34m:\u001b[0m\u001b[0;34m\u001b[0m\u001b[0;34m\u001b[0m\u001b[0m\n",
      "\u001b[0;31mFieldError\u001b[0m: Cannot resolve keyword 'title' into field. Choices are: avg_rating, id, movie, movie_id, no_of_ratings, rating_no"
     ]
    }
   ],
   "source": [
    "def get_top_10_movies_with_avg_rating():\n",
    "    top_10_movies = MovieRating.objects.filter(movie=F('movie')).annotate(avg_rating=Sum(F('no_of_ratings') * F('rating_no')))\n",
    "    return top_10_movies.values('title', 'avg_rating').order_by('-avg_rating')[:10]\n",
    "get_top_10_movies_with_avg_rating()"
   ]
  }
 ],
 "metadata": {
  "kernelspec": {
   "display_name": "Python 3",
   "language": "python",
   "name": "python3"
  },
  "language_info": {
   "codemirror_mode": {
    "name": "ipython",
    "version": 3
   },
   "file_extension": ".py",
   "mimetype": "text/x-python",
   "name": "python",
   "nbconvert_exporter": "python",
   "pygments_lexer": "ipython3",
   "version": "3.7.3"
  }
 },
 "nbformat": 4,
 "nbformat_minor": 2
}
